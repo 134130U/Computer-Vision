{
  "nbformat": 4,
  "nbformat_minor": 0,
  "metadata": {
    "accelerator": "GPU",
    "colab": {
      "name": "Mbaye_babou_convnet_tutorial2.ipynb",
      "provenance": [],
      "collapsed_sections": []
    },
    "kernelspec": {
      "display_name": "Python 3",
      "language": "python",
      "name": "python3"
    },
    "language_info": {
      "codemirror_mode": {
        "name": "ipython",
        "version": 3
      },
      "file_extension": ".py",
      "mimetype": "text/x-python",
      "name": "python",
      "nbconvert_exporter": "python",
      "pygments_lexer": "ipython3",
      "version": "3.6.3"
    },
    "widgets": {
      "application/vnd.jupyter.widget-state+json": {
        "9fab186dd9df47a58d23b97412dae2dc": {
          "model_module": "@jupyter-widgets/controls",
          "model_name": "HBoxModel",
          "state": {
            "_view_name": "HBoxView",
            "_dom_classes": [],
            "_model_name": "HBoxModel",
            "_view_module": "@jupyter-widgets/controls",
            "_model_module_version": "1.5.0",
            "_view_count": null,
            "_view_module_version": "1.5.0",
            "box_style": "",
            "layout": "IPY_MODEL_af6e6cbd8e09455f910a36771b174acc",
            "_model_module": "@jupyter-widgets/controls",
            "children": [
              "IPY_MODEL_bbb194ba61f54120994d26fac28ccfaf",
              "IPY_MODEL_9aaeaba7a7ab417eb0ce7c89c0e3df69"
            ]
          }
        },
        "af6e6cbd8e09455f910a36771b174acc": {
          "model_module": "@jupyter-widgets/base",
          "model_name": "LayoutModel",
          "state": {
            "_view_name": "LayoutView",
            "grid_template_rows": null,
            "right": null,
            "justify_content": null,
            "_view_module": "@jupyter-widgets/base",
            "overflow": null,
            "_model_module_version": "1.2.0",
            "_view_count": null,
            "flex_flow": null,
            "width": null,
            "min_width": null,
            "border": null,
            "align_items": null,
            "bottom": null,
            "_model_module": "@jupyter-widgets/base",
            "top": null,
            "grid_column": null,
            "overflow_y": null,
            "overflow_x": null,
            "grid_auto_flow": null,
            "grid_area": null,
            "grid_template_columns": null,
            "flex": null,
            "_model_name": "LayoutModel",
            "justify_items": null,
            "grid_row": null,
            "max_height": null,
            "align_content": null,
            "visibility": null,
            "align_self": null,
            "height": null,
            "min_height": null,
            "padding": null,
            "grid_auto_rows": null,
            "grid_gap": null,
            "max_width": null,
            "order": null,
            "_view_module_version": "1.2.0",
            "grid_template_areas": null,
            "object_position": null,
            "object_fit": null,
            "grid_auto_columns": null,
            "margin": null,
            "display": null,
            "left": null
          }
        },
        "bbb194ba61f54120994d26fac28ccfaf": {
          "model_module": "@jupyter-widgets/controls",
          "model_name": "IntProgressModel",
          "state": {
            "_view_name": "ProgressView",
            "style": "IPY_MODEL_25ffaaa7905c44059fa842cdebe5ee3f",
            "_dom_classes": [],
            "description": "",
            "_model_name": "IntProgressModel",
            "bar_style": "info",
            "max": 1,
            "_view_module": "@jupyter-widgets/controls",
            "_model_module_version": "1.5.0",
            "value": 1,
            "_view_count": null,
            "_view_module_version": "1.5.0",
            "orientation": "horizontal",
            "min": 0,
            "description_tooltip": null,
            "_model_module": "@jupyter-widgets/controls",
            "layout": "IPY_MODEL_22816b66930e403a98c6751011fce8ea"
          }
        },
        "9aaeaba7a7ab417eb0ce7c89c0e3df69": {
          "model_module": "@jupyter-widgets/controls",
          "model_name": "HTMLModel",
          "state": {
            "_view_name": "HTMLView",
            "style": "IPY_MODEL_e21d0a5c8f0c49978c6a7b12d6c5226c",
            "_dom_classes": [],
            "description": "",
            "_model_name": "HTMLModel",
            "placeholder": "​",
            "_view_module": "@jupyter-widgets/controls",
            "_model_module_version": "1.5.0",
            "value": " 9920512/? [00:20&lt;00:00, 765242.00it/s]",
            "_view_count": null,
            "_view_module_version": "1.5.0",
            "description_tooltip": null,
            "_model_module": "@jupyter-widgets/controls",
            "layout": "IPY_MODEL_1ddfa3b5413641a3b06c187c533e31d5"
          }
        },
        "25ffaaa7905c44059fa842cdebe5ee3f": {
          "model_module": "@jupyter-widgets/controls",
          "model_name": "ProgressStyleModel",
          "state": {
            "_view_name": "StyleView",
            "_model_name": "ProgressStyleModel",
            "description_width": "initial",
            "_view_module": "@jupyter-widgets/base",
            "_model_module_version": "1.5.0",
            "_view_count": null,
            "_view_module_version": "1.2.0",
            "bar_color": null,
            "_model_module": "@jupyter-widgets/controls"
          }
        },
        "22816b66930e403a98c6751011fce8ea": {
          "model_module": "@jupyter-widgets/base",
          "model_name": "LayoutModel",
          "state": {
            "_view_name": "LayoutView",
            "grid_template_rows": null,
            "right": null,
            "justify_content": null,
            "_view_module": "@jupyter-widgets/base",
            "overflow": null,
            "_model_module_version": "1.2.0",
            "_view_count": null,
            "flex_flow": null,
            "width": null,
            "min_width": null,
            "border": null,
            "align_items": null,
            "bottom": null,
            "_model_module": "@jupyter-widgets/base",
            "top": null,
            "grid_column": null,
            "overflow_y": null,
            "overflow_x": null,
            "grid_auto_flow": null,
            "grid_area": null,
            "grid_template_columns": null,
            "flex": null,
            "_model_name": "LayoutModel",
            "justify_items": null,
            "grid_row": null,
            "max_height": null,
            "align_content": null,
            "visibility": null,
            "align_self": null,
            "height": null,
            "min_height": null,
            "padding": null,
            "grid_auto_rows": null,
            "grid_gap": null,
            "max_width": null,
            "order": null,
            "_view_module_version": "1.2.0",
            "grid_template_areas": null,
            "object_position": null,
            "object_fit": null,
            "grid_auto_columns": null,
            "margin": null,
            "display": null,
            "left": null
          }
        },
        "e21d0a5c8f0c49978c6a7b12d6c5226c": {
          "model_module": "@jupyter-widgets/controls",
          "model_name": "DescriptionStyleModel",
          "state": {
            "_view_name": "StyleView",
            "_model_name": "DescriptionStyleModel",
            "description_width": "",
            "_view_module": "@jupyter-widgets/base",
            "_model_module_version": "1.5.0",
            "_view_count": null,
            "_view_module_version": "1.2.0",
            "_model_module": "@jupyter-widgets/controls"
          }
        },
        "1ddfa3b5413641a3b06c187c533e31d5": {
          "model_module": "@jupyter-widgets/base",
          "model_name": "LayoutModel",
          "state": {
            "_view_name": "LayoutView",
            "grid_template_rows": null,
            "right": null,
            "justify_content": null,
            "_view_module": "@jupyter-widgets/base",
            "overflow": null,
            "_model_module_version": "1.2.0",
            "_view_count": null,
            "flex_flow": null,
            "width": null,
            "min_width": null,
            "border": null,
            "align_items": null,
            "bottom": null,
            "_model_module": "@jupyter-widgets/base",
            "top": null,
            "grid_column": null,
            "overflow_y": null,
            "overflow_x": null,
            "grid_auto_flow": null,
            "grid_area": null,
            "grid_template_columns": null,
            "flex": null,
            "_model_name": "LayoutModel",
            "justify_items": null,
            "grid_row": null,
            "max_height": null,
            "align_content": null,
            "visibility": null,
            "align_self": null,
            "height": null,
            "min_height": null,
            "padding": null,
            "grid_auto_rows": null,
            "grid_gap": null,
            "max_width": null,
            "order": null,
            "_view_module_version": "1.2.0",
            "grid_template_areas": null,
            "object_position": null,
            "object_fit": null,
            "grid_auto_columns": null,
            "margin": null,
            "display": null,
            "left": null
          }
        },
        "8dd8efeb04cd438f860e2fa78b30765c": {
          "model_module": "@jupyter-widgets/controls",
          "model_name": "HBoxModel",
          "state": {
            "_view_name": "HBoxView",
            "_dom_classes": [],
            "_model_name": "HBoxModel",
            "_view_module": "@jupyter-widgets/controls",
            "_model_module_version": "1.5.0",
            "_view_count": null,
            "_view_module_version": "1.5.0",
            "box_style": "",
            "layout": "IPY_MODEL_6f6aa13490684f3cba518e0e338af609",
            "_model_module": "@jupyter-widgets/controls",
            "children": [
              "IPY_MODEL_398b258b4fbc445da1be85ccd035bcff",
              "IPY_MODEL_9a1f2a214bc54094a82be9aeeb5c139a"
            ]
          }
        },
        "6f6aa13490684f3cba518e0e338af609": {
          "model_module": "@jupyter-widgets/base",
          "model_name": "LayoutModel",
          "state": {
            "_view_name": "LayoutView",
            "grid_template_rows": null,
            "right": null,
            "justify_content": null,
            "_view_module": "@jupyter-widgets/base",
            "overflow": null,
            "_model_module_version": "1.2.0",
            "_view_count": null,
            "flex_flow": null,
            "width": null,
            "min_width": null,
            "border": null,
            "align_items": null,
            "bottom": null,
            "_model_module": "@jupyter-widgets/base",
            "top": null,
            "grid_column": null,
            "overflow_y": null,
            "overflow_x": null,
            "grid_auto_flow": null,
            "grid_area": null,
            "grid_template_columns": null,
            "flex": null,
            "_model_name": "LayoutModel",
            "justify_items": null,
            "grid_row": null,
            "max_height": null,
            "align_content": null,
            "visibility": null,
            "align_self": null,
            "height": null,
            "min_height": null,
            "padding": null,
            "grid_auto_rows": null,
            "grid_gap": null,
            "max_width": null,
            "order": null,
            "_view_module_version": "1.2.0",
            "grid_template_areas": null,
            "object_position": null,
            "object_fit": null,
            "grid_auto_columns": null,
            "margin": null,
            "display": null,
            "left": null
          }
        },
        "398b258b4fbc445da1be85ccd035bcff": {
          "model_module": "@jupyter-widgets/controls",
          "model_name": "IntProgressModel",
          "state": {
            "_view_name": "ProgressView",
            "style": "IPY_MODEL_beb5b04d501d402bb287271cc9e5747a",
            "_dom_classes": [],
            "description": "",
            "_model_name": "IntProgressModel",
            "bar_style": "success",
            "max": 1,
            "_view_module": "@jupyter-widgets/controls",
            "_model_module_version": "1.5.0",
            "value": 1,
            "_view_count": null,
            "_view_module_version": "1.5.0",
            "orientation": "horizontal",
            "min": 0,
            "description_tooltip": null,
            "_model_module": "@jupyter-widgets/controls",
            "layout": "IPY_MODEL_5f10d4d7f5544226a80d48d97345a439"
          }
        },
        "9a1f2a214bc54094a82be9aeeb5c139a": {
          "model_module": "@jupyter-widgets/controls",
          "model_name": "HTMLModel",
          "state": {
            "_view_name": "HTMLView",
            "style": "IPY_MODEL_7c1e8945ff6e46d6aa6f8bf5615aec73",
            "_dom_classes": [],
            "description": "",
            "_model_name": "HTMLModel",
            "placeholder": "​",
            "_view_module": "@jupyter-widgets/controls",
            "_model_module_version": "1.5.0",
            "value": " 32768/? [00:00&lt;00:00, 110723.12it/s]",
            "_view_count": null,
            "_view_module_version": "1.5.0",
            "description_tooltip": null,
            "_model_module": "@jupyter-widgets/controls",
            "layout": "IPY_MODEL_6fa86b23ca9847bebfa5badaacb4883a"
          }
        },
        "beb5b04d501d402bb287271cc9e5747a": {
          "model_module": "@jupyter-widgets/controls",
          "model_name": "ProgressStyleModel",
          "state": {
            "_view_name": "StyleView",
            "_model_name": "ProgressStyleModel",
            "description_width": "initial",
            "_view_module": "@jupyter-widgets/base",
            "_model_module_version": "1.5.0",
            "_view_count": null,
            "_view_module_version": "1.2.0",
            "bar_color": null,
            "_model_module": "@jupyter-widgets/controls"
          }
        },
        "5f10d4d7f5544226a80d48d97345a439": {
          "model_module": "@jupyter-widgets/base",
          "model_name": "LayoutModel",
          "state": {
            "_view_name": "LayoutView",
            "grid_template_rows": null,
            "right": null,
            "justify_content": null,
            "_view_module": "@jupyter-widgets/base",
            "overflow": null,
            "_model_module_version": "1.2.0",
            "_view_count": null,
            "flex_flow": null,
            "width": null,
            "min_width": null,
            "border": null,
            "align_items": null,
            "bottom": null,
            "_model_module": "@jupyter-widgets/base",
            "top": null,
            "grid_column": null,
            "overflow_y": null,
            "overflow_x": null,
            "grid_auto_flow": null,
            "grid_area": null,
            "grid_template_columns": null,
            "flex": null,
            "_model_name": "LayoutModel",
            "justify_items": null,
            "grid_row": null,
            "max_height": null,
            "align_content": null,
            "visibility": null,
            "align_self": null,
            "height": null,
            "min_height": null,
            "padding": null,
            "grid_auto_rows": null,
            "grid_gap": null,
            "max_width": null,
            "order": null,
            "_view_module_version": "1.2.0",
            "grid_template_areas": null,
            "object_position": null,
            "object_fit": null,
            "grid_auto_columns": null,
            "margin": null,
            "display": null,
            "left": null
          }
        },
        "7c1e8945ff6e46d6aa6f8bf5615aec73": {
          "model_module": "@jupyter-widgets/controls",
          "model_name": "DescriptionStyleModel",
          "state": {
            "_view_name": "StyleView",
            "_model_name": "DescriptionStyleModel",
            "description_width": "",
            "_view_module": "@jupyter-widgets/base",
            "_model_module_version": "1.5.0",
            "_view_count": null,
            "_view_module_version": "1.2.0",
            "_model_module": "@jupyter-widgets/controls"
          }
        },
        "6fa86b23ca9847bebfa5badaacb4883a": {
          "model_module": "@jupyter-widgets/base",
          "model_name": "LayoutModel",
          "state": {
            "_view_name": "LayoutView",
            "grid_template_rows": null,
            "right": null,
            "justify_content": null,
            "_view_module": "@jupyter-widgets/base",
            "overflow": null,
            "_model_module_version": "1.2.0",
            "_view_count": null,
            "flex_flow": null,
            "width": null,
            "min_width": null,
            "border": null,
            "align_items": null,
            "bottom": null,
            "_model_module": "@jupyter-widgets/base",
            "top": null,
            "grid_column": null,
            "overflow_y": null,
            "overflow_x": null,
            "grid_auto_flow": null,
            "grid_area": null,
            "grid_template_columns": null,
            "flex": null,
            "_model_name": "LayoutModel",
            "justify_items": null,
            "grid_row": null,
            "max_height": null,
            "align_content": null,
            "visibility": null,
            "align_self": null,
            "height": null,
            "min_height": null,
            "padding": null,
            "grid_auto_rows": null,
            "grid_gap": null,
            "max_width": null,
            "order": null,
            "_view_module_version": "1.2.0",
            "grid_template_areas": null,
            "object_position": null,
            "object_fit": null,
            "grid_auto_columns": null,
            "margin": null,
            "display": null,
            "left": null
          }
        },
        "9c970de5be024019a420cde9aed75726": {
          "model_module": "@jupyter-widgets/controls",
          "model_name": "HBoxModel",
          "state": {
            "_view_name": "HBoxView",
            "_dom_classes": [],
            "_model_name": "HBoxModel",
            "_view_module": "@jupyter-widgets/controls",
            "_model_module_version": "1.5.0",
            "_view_count": null,
            "_view_module_version": "1.5.0",
            "box_style": "",
            "layout": "IPY_MODEL_865a97b7fefe48178e9b920e6052f63f",
            "_model_module": "@jupyter-widgets/controls",
            "children": [
              "IPY_MODEL_7c50d8d439804895ab08e31f623a3d1c",
              "IPY_MODEL_51cd02a6f68042a08603d6ebf6666d7f"
            ]
          }
        },
        "865a97b7fefe48178e9b920e6052f63f": {
          "model_module": "@jupyter-widgets/base",
          "model_name": "LayoutModel",
          "state": {
            "_view_name": "LayoutView",
            "grid_template_rows": null,
            "right": null,
            "justify_content": null,
            "_view_module": "@jupyter-widgets/base",
            "overflow": null,
            "_model_module_version": "1.2.0",
            "_view_count": null,
            "flex_flow": null,
            "width": null,
            "min_width": null,
            "border": null,
            "align_items": null,
            "bottom": null,
            "_model_module": "@jupyter-widgets/base",
            "top": null,
            "grid_column": null,
            "overflow_y": null,
            "overflow_x": null,
            "grid_auto_flow": null,
            "grid_area": null,
            "grid_template_columns": null,
            "flex": null,
            "_model_name": "LayoutModel",
            "justify_items": null,
            "grid_row": null,
            "max_height": null,
            "align_content": null,
            "visibility": null,
            "align_self": null,
            "height": null,
            "min_height": null,
            "padding": null,
            "grid_auto_rows": null,
            "grid_gap": null,
            "max_width": null,
            "order": null,
            "_view_module_version": "1.2.0",
            "grid_template_areas": null,
            "object_position": null,
            "object_fit": null,
            "grid_auto_columns": null,
            "margin": null,
            "display": null,
            "left": null
          }
        },
        "7c50d8d439804895ab08e31f623a3d1c": {
          "model_module": "@jupyter-widgets/controls",
          "model_name": "IntProgressModel",
          "state": {
            "_view_name": "ProgressView",
            "style": "IPY_MODEL_d1f08fcf5b5945d9a2f3291103001036",
            "_dom_classes": [],
            "description": "",
            "_model_name": "IntProgressModel",
            "bar_style": "info",
            "max": 1,
            "_view_module": "@jupyter-widgets/controls",
            "_model_module_version": "1.5.0",
            "value": 1,
            "_view_count": null,
            "_view_module_version": "1.5.0",
            "orientation": "horizontal",
            "min": 0,
            "description_tooltip": null,
            "_model_module": "@jupyter-widgets/controls",
            "layout": "IPY_MODEL_5a68baddd3484ca4a011522a97c7666b"
          }
        },
        "51cd02a6f68042a08603d6ebf6666d7f": {
          "model_module": "@jupyter-widgets/controls",
          "model_name": "HTMLModel",
          "state": {
            "_view_name": "HTMLView",
            "style": "IPY_MODEL_7ba977fcaae9480093b29ec0387c31d5",
            "_dom_classes": [],
            "description": "",
            "_model_name": "HTMLModel",
            "placeholder": "​",
            "_view_module": "@jupyter-widgets/controls",
            "_model_module_version": "1.5.0",
            "value": " 1654784/? [00:18&lt;00:00, 267239.57it/s]",
            "_view_count": null,
            "_view_module_version": "1.5.0",
            "description_tooltip": null,
            "_model_module": "@jupyter-widgets/controls",
            "layout": "IPY_MODEL_fa51046249c3474e8a19bee96e5cd1f2"
          }
        },
        "d1f08fcf5b5945d9a2f3291103001036": {
          "model_module": "@jupyter-widgets/controls",
          "model_name": "ProgressStyleModel",
          "state": {
            "_view_name": "StyleView",
            "_model_name": "ProgressStyleModel",
            "description_width": "initial",
            "_view_module": "@jupyter-widgets/base",
            "_model_module_version": "1.5.0",
            "_view_count": null,
            "_view_module_version": "1.2.0",
            "bar_color": null,
            "_model_module": "@jupyter-widgets/controls"
          }
        },
        "5a68baddd3484ca4a011522a97c7666b": {
          "model_module": "@jupyter-widgets/base",
          "model_name": "LayoutModel",
          "state": {
            "_view_name": "LayoutView",
            "grid_template_rows": null,
            "right": null,
            "justify_content": null,
            "_view_module": "@jupyter-widgets/base",
            "overflow": null,
            "_model_module_version": "1.2.0",
            "_view_count": null,
            "flex_flow": null,
            "width": null,
            "min_width": null,
            "border": null,
            "align_items": null,
            "bottom": null,
            "_model_module": "@jupyter-widgets/base",
            "top": null,
            "grid_column": null,
            "overflow_y": null,
            "overflow_x": null,
            "grid_auto_flow": null,
            "grid_area": null,
            "grid_template_columns": null,
            "flex": null,
            "_model_name": "LayoutModel",
            "justify_items": null,
            "grid_row": null,
            "max_height": null,
            "align_content": null,
            "visibility": null,
            "align_self": null,
            "height": null,
            "min_height": null,
            "padding": null,
            "grid_auto_rows": null,
            "grid_gap": null,
            "max_width": null,
            "order": null,
            "_view_module_version": "1.2.0",
            "grid_template_areas": null,
            "object_position": null,
            "object_fit": null,
            "grid_auto_columns": null,
            "margin": null,
            "display": null,
            "left": null
          }
        },
        "7ba977fcaae9480093b29ec0387c31d5": {
          "model_module": "@jupyter-widgets/controls",
          "model_name": "DescriptionStyleModel",
          "state": {
            "_view_name": "StyleView",
            "_model_name": "DescriptionStyleModel",
            "description_width": "",
            "_view_module": "@jupyter-widgets/base",
            "_model_module_version": "1.5.0",
            "_view_count": null,
            "_view_module_version": "1.2.0",
            "_model_module": "@jupyter-widgets/controls"
          }
        },
        "fa51046249c3474e8a19bee96e5cd1f2": {
          "model_module": "@jupyter-widgets/base",
          "model_name": "LayoutModel",
          "state": {
            "_view_name": "LayoutView",
            "grid_template_rows": null,
            "right": null,
            "justify_content": null,
            "_view_module": "@jupyter-widgets/base",
            "overflow": null,
            "_model_module_version": "1.2.0",
            "_view_count": null,
            "flex_flow": null,
            "width": null,
            "min_width": null,
            "border": null,
            "align_items": null,
            "bottom": null,
            "_model_module": "@jupyter-widgets/base",
            "top": null,
            "grid_column": null,
            "overflow_y": null,
            "overflow_x": null,
            "grid_auto_flow": null,
            "grid_area": null,
            "grid_template_columns": null,
            "flex": null,
            "_model_name": "LayoutModel",
            "justify_items": null,
            "grid_row": null,
            "max_height": null,
            "align_content": null,
            "visibility": null,
            "align_self": null,
            "height": null,
            "min_height": null,
            "padding": null,
            "grid_auto_rows": null,
            "grid_gap": null,
            "max_width": null,
            "order": null,
            "_view_module_version": "1.2.0",
            "grid_template_areas": null,
            "object_position": null,
            "object_fit": null,
            "grid_auto_columns": null,
            "margin": null,
            "display": null,
            "left": null
          }
        },
        "f77254b0c7674717b5ca08ae07f773f7": {
          "model_module": "@jupyter-widgets/controls",
          "model_name": "HBoxModel",
          "state": {
            "_view_name": "HBoxView",
            "_dom_classes": [],
            "_model_name": "HBoxModel",
            "_view_module": "@jupyter-widgets/controls",
            "_model_module_version": "1.5.0",
            "_view_count": null,
            "_view_module_version": "1.5.0",
            "box_style": "",
            "layout": "IPY_MODEL_a3c71000bd4b4d5ea4c92036b286d8bd",
            "_model_module": "@jupyter-widgets/controls",
            "children": [
              "IPY_MODEL_4ffc93e8c9004b7eb354e4dcb1afa277",
              "IPY_MODEL_d3658bb621c6411fbca9c97767f35578"
            ]
          }
        },
        "a3c71000bd4b4d5ea4c92036b286d8bd": {
          "model_module": "@jupyter-widgets/base",
          "model_name": "LayoutModel",
          "state": {
            "_view_name": "LayoutView",
            "grid_template_rows": null,
            "right": null,
            "justify_content": null,
            "_view_module": "@jupyter-widgets/base",
            "overflow": null,
            "_model_module_version": "1.2.0",
            "_view_count": null,
            "flex_flow": null,
            "width": null,
            "min_width": null,
            "border": null,
            "align_items": null,
            "bottom": null,
            "_model_module": "@jupyter-widgets/base",
            "top": null,
            "grid_column": null,
            "overflow_y": null,
            "overflow_x": null,
            "grid_auto_flow": null,
            "grid_area": null,
            "grid_template_columns": null,
            "flex": null,
            "_model_name": "LayoutModel",
            "justify_items": null,
            "grid_row": null,
            "max_height": null,
            "align_content": null,
            "visibility": null,
            "align_self": null,
            "height": null,
            "min_height": null,
            "padding": null,
            "grid_auto_rows": null,
            "grid_gap": null,
            "max_width": null,
            "order": null,
            "_view_module_version": "1.2.0",
            "grid_template_areas": null,
            "object_position": null,
            "object_fit": null,
            "grid_auto_columns": null,
            "margin": null,
            "display": null,
            "left": null
          }
        },
        "4ffc93e8c9004b7eb354e4dcb1afa277": {
          "model_module": "@jupyter-widgets/controls",
          "model_name": "IntProgressModel",
          "state": {
            "_view_name": "ProgressView",
            "style": "IPY_MODEL_bf424fc1488d44019619edbd0a79a123",
            "_dom_classes": [],
            "description": "",
            "_model_name": "IntProgressModel",
            "bar_style": "success",
            "max": 1,
            "_view_module": "@jupyter-widgets/controls",
            "_model_module_version": "1.5.0",
            "value": 1,
            "_view_count": null,
            "_view_module_version": "1.5.0",
            "orientation": "horizontal",
            "min": 0,
            "description_tooltip": null,
            "_model_module": "@jupyter-widgets/controls",
            "layout": "IPY_MODEL_beb625c45b274c5898041c6fc8fcb00f"
          }
        },
        "d3658bb621c6411fbca9c97767f35578": {
          "model_module": "@jupyter-widgets/controls",
          "model_name": "HTMLModel",
          "state": {
            "_view_name": "HTMLView",
            "style": "IPY_MODEL_4a3bb07030574e40a897f1505f17fc16",
            "_dom_classes": [],
            "description": "",
            "_model_name": "HTMLModel",
            "placeholder": "​",
            "_view_module": "@jupyter-widgets/controls",
            "_model_module_version": "1.5.0",
            "value": " 8192/? [00:03&lt;00:00, 2224.46it/s]",
            "_view_count": null,
            "_view_module_version": "1.5.0",
            "description_tooltip": null,
            "_model_module": "@jupyter-widgets/controls",
            "layout": "IPY_MODEL_6893e62038d74dad847445b59983a3e4"
          }
        },
        "bf424fc1488d44019619edbd0a79a123": {
          "model_module": "@jupyter-widgets/controls",
          "model_name": "ProgressStyleModel",
          "state": {
            "_view_name": "StyleView",
            "_model_name": "ProgressStyleModel",
            "description_width": "initial",
            "_view_module": "@jupyter-widgets/base",
            "_model_module_version": "1.5.0",
            "_view_count": null,
            "_view_module_version": "1.2.0",
            "bar_color": null,
            "_model_module": "@jupyter-widgets/controls"
          }
        },
        "beb625c45b274c5898041c6fc8fcb00f": {
          "model_module": "@jupyter-widgets/base",
          "model_name": "LayoutModel",
          "state": {
            "_view_name": "LayoutView",
            "grid_template_rows": null,
            "right": null,
            "justify_content": null,
            "_view_module": "@jupyter-widgets/base",
            "overflow": null,
            "_model_module_version": "1.2.0",
            "_view_count": null,
            "flex_flow": null,
            "width": null,
            "min_width": null,
            "border": null,
            "align_items": null,
            "bottom": null,
            "_model_module": "@jupyter-widgets/base",
            "top": null,
            "grid_column": null,
            "overflow_y": null,
            "overflow_x": null,
            "grid_auto_flow": null,
            "grid_area": null,
            "grid_template_columns": null,
            "flex": null,
            "_model_name": "LayoutModel",
            "justify_items": null,
            "grid_row": null,
            "max_height": null,
            "align_content": null,
            "visibility": null,
            "align_self": null,
            "height": null,
            "min_height": null,
            "padding": null,
            "grid_auto_rows": null,
            "grid_gap": null,
            "max_width": null,
            "order": null,
            "_view_module_version": "1.2.0",
            "grid_template_areas": null,
            "object_position": null,
            "object_fit": null,
            "grid_auto_columns": null,
            "margin": null,
            "display": null,
            "left": null
          }
        },
        "4a3bb07030574e40a897f1505f17fc16": {
          "model_module": "@jupyter-widgets/controls",
          "model_name": "DescriptionStyleModel",
          "state": {
            "_view_name": "StyleView",
            "_model_name": "DescriptionStyleModel",
            "description_width": "",
            "_view_module": "@jupyter-widgets/base",
            "_model_module_version": "1.5.0",
            "_view_count": null,
            "_view_module_version": "1.2.0",
            "_model_module": "@jupyter-widgets/controls"
          }
        },
        "6893e62038d74dad847445b59983a3e4": {
          "model_module": "@jupyter-widgets/base",
          "model_name": "LayoutModel",
          "state": {
            "_view_name": "LayoutView",
            "grid_template_rows": null,
            "right": null,
            "justify_content": null,
            "_view_module": "@jupyter-widgets/base",
            "overflow": null,
            "_model_module_version": "1.2.0",
            "_view_count": null,
            "flex_flow": null,
            "width": null,
            "min_width": null,
            "border": null,
            "align_items": null,
            "bottom": null,
            "_model_module": "@jupyter-widgets/base",
            "top": null,
            "grid_column": null,
            "overflow_y": null,
            "overflow_x": null,
            "grid_auto_flow": null,
            "grid_area": null,
            "grid_template_columns": null,
            "flex": null,
            "_model_name": "LayoutModel",
            "justify_items": null,
            "grid_row": null,
            "max_height": null,
            "align_content": null,
            "visibility": null,
            "align_self": null,
            "height": null,
            "min_height": null,
            "padding": null,
            "grid_auto_rows": null,
            "grid_gap": null,
            "max_width": null,
            "order": null,
            "_view_module_version": "1.2.0",
            "grid_template_areas": null,
            "object_position": null,
            "object_fit": null,
            "grid_auto_columns": null,
            "margin": null,
            "display": null,
            "left": null
          }
        }
      }
    }
  },
  "cells": [
    {
      "cell_type": "markdown",
      "metadata": {
        "colab_type": "text",
        "id": "mCt-frpFH8oN"
      },
      "source": [
        "The tutorials use PyTorch. You will need to load the following dependencies."
      ]
    },
    {
      "cell_type": "code",
      "metadata": {
        "colab_type": "code",
        "id": "hqnl0AKVXIA4",
        "colab": {}
      },
      "source": [
        "import random\n",
        "\n",
        "import PIL\n",
        "import imageio\n",
        "import matplotlib.pyplot as plt\n",
        "import numpy as np\n",
        "import skimage.transform\n",
        "import torch\n",
        "import torch.nn as nn\n",
        "import torch.utils.data\n",
        "import torchvision\n",
        "from torchvision import datasets, transforms\n",
        "from IPython import display"
      ],
      "execution_count": 0,
      "outputs": []
    },
    {
      "cell_type": "markdown",
      "metadata": {
        "colab_type": "text",
        "id": "CKeYuM-cIXxs"
      },
      "source": [
        "The code below may be helpful in visualizing PyTorch tensors as images."
      ]
    },
    {
      "cell_type": "code",
      "metadata": {
        "colab_type": "code",
        "id": "ZZd_rI8edYIB",
        "colab": {}
      },
      "source": [
        "%matplotlib inline\n",
        "\n",
        "def show(img):\n",
        "    \"\"\"Show PyTorch tensor img as an image in matplotlib.\"\"\"\n",
        "    npimg = img.cpu().detach().numpy()\n",
        "    plt.imshow(np.transpose(npimg, (1, 2, 0)), interpolation='nearest')\n",
        "    plt.grid(False)\n",
        "    plt.gca().axis('off')\n",
        "\n",
        "def display_thumb(img):\n",
        "  display.display(transforms.Resize(128)(img))"
      ],
      "execution_count": 0,
      "outputs": []
    },
    {
      "cell_type": "code",
      "metadata": {
        "colab_type": "code",
        "id": "dzfEE578uSNp",
        "colab": {}
      },
      "source": [
        "device = 'cuda' if torch.cuda.is_available() else 'cpu'"
      ],
      "execution_count": 0,
      "outputs": []
    },
    {
      "cell_type": "markdown",
      "metadata": {
        "colab_type": "text",
        "id": "zgE0byUgKwM6"
      },
      "source": [
        "Load MNIST and define train/test functions as before. Please make sure you read the code carefully and understand what it is doing."
      ]
    },
    {
      "cell_type": "code",
      "metadata": {
        "colab_type": "code",
        "id": "-NMUce6PKu-o",
        "outputId": "f5933f22-383f-4e06-fe0a-b38f9e823d4e",
        "colab": {
          "base_uri": "https://localhost:8080/",
          "height": 356,
          "referenced_widgets": [
            "9fab186dd9df47a58d23b97412dae2dc",
            "af6e6cbd8e09455f910a36771b174acc",
            "bbb194ba61f54120994d26fac28ccfaf",
            "9aaeaba7a7ab417eb0ce7c89c0e3df69",
            "25ffaaa7905c44059fa842cdebe5ee3f",
            "22816b66930e403a98c6751011fce8ea",
            "e21d0a5c8f0c49978c6a7b12d6c5226c",
            "1ddfa3b5413641a3b06c187c533e31d5",
            "8dd8efeb04cd438f860e2fa78b30765c",
            "6f6aa13490684f3cba518e0e338af609",
            "398b258b4fbc445da1be85ccd035bcff",
            "9a1f2a214bc54094a82be9aeeb5c139a",
            "beb5b04d501d402bb287271cc9e5747a",
            "5f10d4d7f5544226a80d48d97345a439",
            "7c1e8945ff6e46d6aa6f8bf5615aec73",
            "6fa86b23ca9847bebfa5badaacb4883a",
            "9c970de5be024019a420cde9aed75726",
            "865a97b7fefe48178e9b920e6052f63f",
            "7c50d8d439804895ab08e31f623a3d1c",
            "51cd02a6f68042a08603d6ebf6666d7f",
            "d1f08fcf5b5945d9a2f3291103001036",
            "5a68baddd3484ca4a011522a97c7666b",
            "7ba977fcaae9480093b29ec0387c31d5",
            "fa51046249c3474e8a19bee96e5cd1f2",
            "f77254b0c7674717b5ca08ae07f773f7",
            "a3c71000bd4b4d5ea4c92036b286d8bd",
            "4ffc93e8c9004b7eb354e4dcb1afa277",
            "d3658bb621c6411fbca9c97767f35578",
            "bf424fc1488d44019619edbd0a79a123",
            "beb625c45b274c5898041c6fc8fcb00f",
            "4a3bb07030574e40a897f1505f17fc16",
            "6893e62038d74dad847445b59983a3e4"
          ]
        }
      },
      "source": [
        "# Load the training and test dataset.\n",
        "mnist_train = datasets.MNIST('/tmp/mnist', train=True, download=True, transform=transforms.ToTensor())\n",
        "mnist_test = datasets.MNIST('/tmp/mnist', train=False, download=True, transform=transforms.ToTensor())\n",
        "\n",
        "# Size of the batches the data loader will produce.\n",
        "batch_size = 64\n",
        "\n",
        "# This creates the dataloaders.\n",
        "train_loader = torch.utils.data.DataLoader(mnist_train, batch_size=batch_size, shuffle=True)\n",
        "test_loader = torch.utils.data.DataLoader(mnist_test, batch_size=batch_size, shuffle=False)"
      ],
      "execution_count": 0,
      "outputs": [
        {
          "output_type": "stream",
          "text": [
            "Downloading http://yann.lecun.com/exdb/mnist/train-images-idx3-ubyte.gz to /tmp/mnist/MNIST/raw/train-images-idx3-ubyte.gz\n"
          ],
          "name": "stdout"
        },
        {
          "output_type": "display_data",
          "data": {
            "application/vnd.jupyter.widget-view+json": {
              "model_id": "9fab186dd9df47a58d23b97412dae2dc",
              "version_minor": 0,
              "version_major": 2
            },
            "text/plain": [
              "HBox(children=(IntProgress(value=1, bar_style='info', max=1), HTML(value='')))"
            ]
          },
          "metadata": {
            "tags": []
          }
        },
        {
          "output_type": "stream",
          "text": [
            "Extracting /tmp/mnist/MNIST/raw/train-images-idx3-ubyte.gz to /tmp/mnist/MNIST/raw\n",
            "Downloading http://yann.lecun.com/exdb/mnist/train-labels-idx1-ubyte.gz to /tmp/mnist/MNIST/raw/train-labels-idx1-ubyte.gz\n"
          ],
          "name": "stdout"
        },
        {
          "output_type": "display_data",
          "data": {
            "application/vnd.jupyter.widget-view+json": {
              "model_id": "8dd8efeb04cd438f860e2fa78b30765c",
              "version_minor": 0,
              "version_major": 2
            },
            "text/plain": [
              "HBox(children=(IntProgress(value=1, bar_style='info', max=1), HTML(value='')))"
            ]
          },
          "metadata": {
            "tags": []
          }
        },
        {
          "output_type": "stream",
          "text": [
            "Extracting /tmp/mnist/MNIST/raw/train-labels-idx1-ubyte.gz to /tmp/mnist/MNIST/raw\n",
            "Downloading http://yann.lecun.com/exdb/mnist/t10k-images-idx3-ubyte.gz to /tmp/mnist/MNIST/raw/t10k-images-idx3-ubyte.gz\n",
            "\n"
          ],
          "name": "stdout"
        },
        {
          "output_type": "display_data",
          "data": {
            "application/vnd.jupyter.widget-view+json": {
              "model_id": "9c970de5be024019a420cde9aed75726",
              "version_minor": 0,
              "version_major": 2
            },
            "text/plain": [
              "HBox(children=(IntProgress(value=1, bar_style='info', max=1), HTML(value='')))"
            ]
          },
          "metadata": {
            "tags": []
          }
        },
        {
          "output_type": "stream",
          "text": [
            "Extracting /tmp/mnist/MNIST/raw/t10k-images-idx3-ubyte.gz to /tmp/mnist/MNIST/raw\n",
            "Downloading http://yann.lecun.com/exdb/mnist/t10k-labels-idx1-ubyte.gz to /tmp/mnist/MNIST/raw/t10k-labels-idx1-ubyte.gz\n"
          ],
          "name": "stdout"
        },
        {
          "output_type": "display_data",
          "data": {
            "application/vnd.jupyter.widget-view+json": {
              "model_id": "f77254b0c7674717b5ca08ae07f773f7",
              "version_minor": 0,
              "version_major": 2
            },
            "text/plain": [
              "HBox(children=(IntProgress(value=1, bar_style='info', max=1), HTML(value='')))"
            ]
          },
          "metadata": {
            "tags": []
          }
        },
        {
          "output_type": "stream",
          "text": [
            "Extracting /tmp/mnist/MNIST/raw/t10k-labels-idx1-ubyte.gz to /tmp/mnist/MNIST/raw\n",
            "Processing...\n",
            "Done!\n"
          ],
          "name": "stdout"
        }
      ]
    },
    {
      "cell_type": "code",
      "metadata": {
        "colab_type": "code",
        "id": "TgAJ94UgK1VU",
        "outputId": "1ffc2ed1-9d98-4a22-c465-4ffbe98df096",
        "colab": {
          "base_uri": "https://localhost:8080/",
          "height": 35
        }
      },
      "source": [
        "def train(model, criterion, data_loader, optimizer, num_epochs):\n",
        "    \"\"\"Simple training loop for a PyTorch model.\"\"\" \n",
        "    \n",
        "    # Make sure model is in training mode.\n",
        "    model.train()\n",
        "    \n",
        "    # Move model to the device (CPU or GPU).\n",
        "    model.to(device)\n",
        "    \n",
        "    # Exponential moving average of the loss.\n",
        "    ema_loss = None\n",
        "    \n",
        "    # Loop over epochs.\n",
        "    for epoch in range(num_epochs):\n",
        "        \n",
        "      # Loop over data.\n",
        "      for batch_idx, (data, target) in enumerate(data_loader):\n",
        "            \n",
        "          # Forward pass.\n",
        "          output = model(data.to(device))\n",
        "          loss = criterion(output.to(device), target.to(device))\n",
        "          \n",
        "          # Backward pass.\n",
        "          optimizer.zero_grad()\n",
        "          loss.backward()\n",
        "          optimizer.step()\n",
        "          \n",
        "          # NOTE: It is important to call .item() on the loss before summing.\n",
        "          if ema_loss is None:\n",
        "            ema_loss = loss.item()\n",
        "          else:\n",
        "            ema_loss += (loss.item() - ema_loss) * 0.01 \n",
        "          \n",
        "      # Print out progress the end of epoch.\n",
        "      print('Train Epoch: {} \\tLoss: {:.6f}'.format(\n",
        "            epoch, ema_loss),\n",
        "      )\n",
        "              \n",
        "              \n",
        "def test(model, data_loader):\n",
        "    \"\"\"Measures the accuracy of a model on a data set.\"\"\" \n",
        "    # Make sure the model is in evaluation mode.\n",
        "    model.eval()\n",
        "    correct = 0\n",
        "\n",
        "    # We do not need to maintain intermediate activations while testing.\n",
        "    with torch.no_grad():\n",
        "        \n",
        "        # Loop over test data.\n",
        "        for data, target in data_loader:\n",
        "          \n",
        "            # Forward pass.\n",
        "            output = model(data.to(device))\n",
        "            \n",
        "            # Get the label corresponding to the highest predicted probability.\n",
        "            pred = output.argmax(dim=1, keepdim=True)\n",
        "            \n",
        "            # Count number of correct predictions.\n",
        "            correct += pred.cpu().eq(target.view_as(pred)).sum().item()\n",
        "\n",
        "    # Print test accuracy.\n",
        "    percent = 100. * correct / len(data_loader.dataset)\n",
        "    print(f'Accuracy: {correct} / {len(data_loader.dataset)} ({percent:.0f}%)')\n",
        "    return percent\n",
        "   "
      ],
      "execution_count": 0,
      "outputs": [
        {
          "output_type": "stream",
          "text": [
            "\n"
          ],
          "name": "stdout"
        }
      ]
    },
    {
      "cell_type": "markdown",
      "metadata": {
        "id": "GKtVUg_T_0_k",
        "colab_type": "text"
      },
      "source": [
        "In the last tutorial, you implemented a naive convolution. In this section you will implement your own version of forward pass of nn.Conv2d without using any of PyTorch's (or numpy's) pre-defined convolutional functions."
      ]
    },
    {
      "cell_type": "code",
      "metadata": {
        "id": "AC113s0S_0_l",
        "colab_type": "code",
        "colab": {}
      },
      "source": [
        "def conv_forward_naive(x, w, b, conv_param):\n",
        "    \"\"\"\n",
        "    A naive Python implementation of a convolutional layer.\n",
        "    The input consists of N data points, each with C channels, height H and\n",
        "    width W. We convolve each input with F different filters, where each filter\n",
        "    spans all C channels and has height HH and width WW.\n",
        "    Input:\n",
        "    - x: Input data of shape (N, C, H, W)\n",
        "    - w: Filter weights of shape (F, C, HH, WW)\n",
        "    - b: Biases, of shape (F,)\n",
        "    - conv_param: A dictionary with the following keys:\n",
        "      - 'stride': The number of pixels between adjacent receptive fields in the\n",
        "        horizontal and vertical directions.\n",
        "      - 'pad': The number of pixels that will be used to zero-pad the input. \n",
        "        \n",
        "    During padding, 'pad' zeros should be placed symmetrically (i.e., equally on both sides)\n",
        "    along the height and width axes of the input. Be careful not to modfiy the original\n",
        "    input x directly.\n",
        "    Returns an array.\n",
        "    - out: Output data, of shape (N, F, H', W') where H' and W' are given by\n",
        "      H' = 1 + (H + 2 * pad - HH) / stride\n",
        "      W' = 1 + (W + 2 * pad - WW) / stride\n",
        "    \"\"\"\n",
        "    out = None\n",
        "\n",
        "    N, C, H, W = x.shape\n",
        "    num_filters, _, filter_height, filter_width = w.shape\n",
        "    stride, pad = conv_param['stride'], conv_param['pad']\n",
        "\n",
        "    # Check dimensions.\n",
        "    assert (W + 2 * pad - filter_width) % stride == 0, 'width does not work'\n",
        "    assert (H + 2 * pad - filter_height) % stride == 0, 'height does not work'\n",
        "\n",
        "    ###########################################################################\n",
        "    # TODO: Implement the forward pass of a convolutional layer without using #\n",
        "    #       nn.Conv2D or other implementations of convolutions. Instead, use  #\n",
        "    #       standard for- and while-loops to iterate over the tensors.        #\n",
        "    #                                                                         #\n",
        "    # Hint: you can use the function torch.nn.functional.pad for padding.     #\n",
        "    ###########################################################################\n",
        "\n",
        "    x_pad = torch.nn.functional.pad(x,(pad,pad,pad,pad), mode=\"constant\")\n",
        "    h_out = int(1 + (H + 2 * pad - filter_height) / stride)\n",
        "    w_out = int(1 + (W + 2 * pad - filter_width) / stride)\n",
        "    out = np.zeros((N, num_filters, h_out, w_out))\n",
        "\n",
        "    for j in range(h_out):\n",
        "        for k in range(w_out):\n",
        "            x_pad_t = x_pad[:, :, j * stride:j * stride + filter_height, k * stride:k * stride + filter_width]\n",
        "            for i in range(num_filters):\n",
        "                out[:, i, j, k] = (x_pad_t * w[i]).sum(axis=(1, 2, 3))\n",
        "    out =torch.from_numpy(out) + b[None, :, None, None]\n",
        "    # *****END OF YOUR CODE (DO NOT DELETE/MODIFY THIS LINE)*****\n",
        "    ###########################################################################\n",
        "    #                             END OF YOUR CODE                            #\n",
        "    ###########################################################################\n",
        "    cache = (x, w, b, conv_param)\n",
        "    return out"
      ],
      "execution_count": 0,
      "outputs": []
    },
    {
      "cell_type": "markdown",
      "metadata": {
        "id": "An9Fzgj8_0_p",
        "colab_type": "text"
      },
      "source": [
        "You can test your implementation by running the following testing code:"
      ]
    },
    {
      "cell_type": "code",
      "metadata": {
        "id": "StdlxJOX_0_q",
        "colab_type": "code",
        "outputId": "795177d4-3cff-486d-8275-84eff4dc5523",
        "colab": {
          "base_uri": "https://localhost:8080/",
          "height": 69
        }
      },
      "source": [
        "# Make convolution module.\n",
        "w_shape = (3, 3, 4, 4)\n",
        "w = torch.linspace(-0.2, 0.3, steps=torch.prod(torch.tensor(w_shape))).reshape(w_shape)\n",
        "b = torch.linspace(-0.1, 0.2, steps=3)\n",
        "\n",
        "# Compute output of module and compare against reference values.\n",
        "x_shape = (2, 3, 4, 4)\n",
        "x = torch.linspace(-0.1, 0.5, steps=torch.prod(torch.tensor(x_shape))).reshape(x_shape)\n",
        "out = conv_forward_naive(x, w, b, {'stride': 2, 'pad': 1})\n",
        "\n",
        "correct_out = torch.tensor([[[[-0.08759809, -0.10987781],\n",
        "                              [-0.18387192, -0.2109216 ]],\n",
        "                             [[ 0.21027089,  0.21661097],\n",
        "                              [ 0.22847626,  0.23004637]],\n",
        "                             [[ 0.50813986,  0.54309974],\n",
        "                              [ 0.64082444,  0.67101435]]],\n",
        "                            [[[-0.98053589, -1.03143541],\n",
        "                              [-1.19128892, -1.24695841]],\n",
        "                             [[ 0.69108355,  0.66880383],\n",
        "                              [ 0.59480972,  0.56776003]],\n",
        "                             [[ 2.36270298,  2.36904306],\n",
        "                              [ 2.38090835,  2.38247847]]]])\n",
        "\n",
        "# Compare your output to ours; difference should be around e-8\n",
        "print('Testing conv_forward_naive')\n",
        "rel_error = ((out - correct_out) / (out + correct_out + 1e-6)).mean()\n",
        "print('difference: ', rel_error)\n",
        "if abs(rel_error) < 1e-6:\n",
        "    print('Nice work! Your implementation of a convolution layer works correctly.')\n",
        "else:\n",
        "    print('Something is wrong. The output was expected to be {} but it was {}'.format(correct_out, out))"
      ],
      "execution_count": 0,
      "outputs": [
        {
          "output_type": "stream",
          "text": [
            "Testing conv_forward_naive\n",
            "difference:  tensor(2.1238e-08, dtype=torch.float64)\n",
            "Nice work! Your implementation of a convolution layer works correctly.\n"
          ],
          "name": "stdout"
        }
      ]
    },
    {
      "cell_type": "markdown",
      "metadata": {
        "colab_type": "text",
        "id": "GjTq5-k_q8s_"
      },
      "source": [
        "\n",
        "We will now replace the logistic regressor from the last tutorial by a small convolutional network with two convolutional layers and a linear layer, and ReLU activations in between the layers. Implement the model and use the same functions as before to train and test the convolutional network."
      ]
    },
    {
      "cell_type": "code",
      "metadata": {
        "id": "t-cwgnC77nKr",
        "colab_type": "code",
        "colab": {}
      },
      "source": [
        "def get_output_size(in_size, kernel_size, stride=1, padding=0):\n",
        "    return int((in_size - kernel_size + 2 * padding) / stride) + 1"
      ],
      "execution_count": 0,
      "outputs": []
    },
    {
      "cell_type": "code",
      "metadata": {
        "colab_type": "code",
        "id": "5t4hWoUYpp05",
        "outputId": "07fca2a8-c332-4edd-80a5-bbf5c75f68c1",
        "colab": {
          "base_uri": "https://localhost:8080/",
          "height": 139
        }
      },
      "source": [
        "class ConvolutionalNetwork(nn.Module):\n",
        "  \"\"\"Simple convolutional network.\"\"\"\n",
        "  \n",
        "  def __init__(self, image_side_size, num_classes, in_channels=1):\n",
        "      super(ConvolutionalNetwork, self).__init__()\n",
        "        \n",
        "      # Fill these in:\n",
        "      ##########################################################################\n",
        "      # TODO: Implement a convulutional and a linear part.                     #\n",
        "      # Hint: see forward() to understand how they should work together.       #\n",
        "      ##########################################################################\n",
        "      \n",
        "      conv1_out = get_output_size(image_side_size, 3, 1, 1)\n",
        "      conv2_out = get_output_size(conv1_out, 3, 1, 1)    \n",
        "      self.conv_network =  nn.Sequential(\n",
        "            nn.Conv2d(in_channels, 6, kernel_size=3, stride=1, padding=1),\n",
        "            nn.ReLU(),\n",
        "            nn.Conv2d(6, 6, kernel_size=3, stride=1, padding=1),\n",
        "            nn.ReLU())\n",
        "      self.linear = nn.Linear(6 * conv2_out * conv2_out, num_classes)\n",
        "  def forward(self, x):\n",
        "      x = self.conv_network(x)\n",
        "      x = self.linear(x.view(x.size(0), -1))\n",
        "      return x\n",
        "\n",
        "    \n",
        "# Create and train convolutional network.\n",
        "# The accuracy should be around 98%.\n",
        "conv_model = ConvolutionalNetwork(28, 10)\n",
        "###########################################################################\n",
        "# TODO: Create criterion and optimize here.                               #\n",
        "###########################################################################\n",
        "criterion = torch.nn.CrossEntropyLoss()\n",
        "optimizer = torch.optim.SGD(conv_model.parameters(), lr=1e-2)\n",
        "\n",
        "train(conv_model, criterion, train_loader, optimizer, num_epochs=5)\n",
        "test(conv_model, test_loader)"
      ],
      "execution_count": 0,
      "outputs": [
        {
          "output_type": "stream",
          "text": [
            "Train Epoch: 0 \tLoss: 0.337556\n",
            "Train Epoch: 1 \tLoss: 0.283096\n",
            "Train Epoch: 2 \tLoss: 0.264317\n",
            "Train Epoch: 3 \tLoss: 0.229838\n",
            "Train Epoch: 4 \tLoss: 0.176698\n",
            "Accuracy: 9322 / 10000 (93%)\n"
          ],
          "name": "stdout"
        },
        {
          "output_type": "execute_result",
          "data": {
            "text/plain": [
              "93.22"
            ]
          },
          "metadata": {
            "tags": []
          },
          "execution_count": 12
        }
      ]
    },
    {
      "cell_type": "markdown",
      "metadata": {
        "id": "sKWSYqCG_0_0",
        "colab_type": "text"
      },
      "source": [
        "Inspect the filters in the first layer of the trained convolutional network. What do they look like? Why?"
      ]
    },
    {
      "cell_type": "code",
      "metadata": {
        "colab_type": "code",
        "id": "LuSuQHT6bNdU",
        "colab": {}
      },
      "source": [
        "first_conv = list(conv_model.conv_network.children())[0]\n",
        "show(torchvision.utils.make_grid(\n",
        "    first_conv.weight,\n",
        "    normalize=True,\n",
        "    nrow=8,\n",
        "))"
      ],
      "execution_count": 0,
      "outputs": []
    },
    {
      "cell_type": "markdown",
      "metadata": {
        "colab_type": "text",
        "id": "71LRkRxndajG"
      },
      "source": [
        "## Batch Normalization\n"
      ]
    },
    {
      "cell_type": "markdown",
      "metadata": {
        "colab_type": "text",
        "id": "oN8qTuGkZ-3X"
      },
      "source": [
        "Batch normalization is tenchique that allows to make training more stable fast [1].\n",
        "\n",
        "Below we define a convolutional network with 3 layers. Before each ReLU layer we insert a BatchNorm2d layer if `use_batch_norm` is `True`. This improves the convergence as guarantees as values have the same variance asn zero-means. As a result on average exactly half of the values will be nulled by ReLU.\n",
        "\n",
        "[1] Ioffe, Sergey, and Christian Szegedy. \"Batch normalization: Accelerating deep network training by reducing internal covariate shift.\" arXiv preprint arXiv:1502.03167 (2015).\n",
        "\n",
        "**Task**. Go ahead and add batch normalization layer."
      ]
    },
    {
      "cell_type": "code",
      "metadata": {
        "colab_type": "code",
        "id": "vg4CO_WDeLqh",
        "colab": {}
      },
      "source": [
        "class ConvolutionalNetworkWithBN(nn.Module):\n",
        "  \"\"\"Convolutional network uses batch normalization when `use_batch_norm` is `True`.\"\"\"\n",
        "  \n",
        "  def __init__(self, use_batch_norm=False):\n",
        "      super().__init__()\n",
        "      num_channels = 8\n",
        "      self.use_batch_norm = use_batch_norm\n",
        "        \n",
        "      # We define all our layers in a single Sequential. If use_batch_norm is \n",
        "      # True, we'd like maybe_batch_norm_layer to produce a batchnorm layer.\n",
        "      self.conv = nn.Sequential(\n",
        "          # 1x28x28 -> 8x24x24.\n",
        "          nn.Conv2d(1, num_channels, kernel_size=5),\n",
        "          # 8x24x24 -> 8x12x12.\n",
        "          nn.MaxPool2d(2),\n",
        "          self.maybe_batch_norm_layer(num_channels),\n",
        "          nn.ReLU(inplace=True),\n",
        "          nn.Conv2d(num_channels, num_channels, kernel_size=3, padding=1),          \n",
        "          self.maybe_batch_norm_layer(num_channels),            \n",
        "          nn.ReLU(inplace=True),\n",
        "          # 8x12x12 -> 8x8x8.\n",
        "          nn.Conv2d(num_channels, num_channels, kernel_size=5),\n",
        "          # 8x8x8 -> 8x4x4.\n",
        "          nn.MaxPool2d(2),\n",
        "          self.maybe_batch_norm_layer(num_channels),\n",
        "          nn.ReLU(inplace=True),\n",
        "      )\n",
        "      self.linear = nn.Linear(num_channels * 4 ** 2, 10)  \n",
        "      \n",
        "  def maybe_batch_norm_layer(self, num_channels):\n",
        "      if self.use_batch_norm:\n",
        "          ###########################################################################\n",
        "          # TODO: Add batch norm layer                                              #\n",
        "          # Put your code between START_GRADING and END_GRADING.                    #\n",
        "          ###########################################################################\n",
        "          return nn.BatchNorm2d(num_channels)\n",
        "      else:\n",
        "          # This layer will copy its input to the output.\n",
        "          return nn.Identity()\n",
        "      \n",
        "  def forward(self, x):\n",
        "      x = self.conv(x)  \n",
        "      x = self.linear(x.view(x.size(0), -1))\n",
        "      return x"
      ],
      "execution_count": 0,
      "outputs": []
    },
    {
      "cell_type": "markdown",
      "metadata": {
        "colab_type": "text",
        "id": "qbtzzBhiJ4PW"
      },
      "source": [
        "To see how batch normalization improves stability, let's try to train the neural network with different learning rates and check the accuracies."
      ]
    },
    {
      "cell_type": "code",
      "metadata": {
        "colab_type": "code",
        "id": "YXuSliJF3r7u",
        "outputId": "a6c5bbc9-af44-4b19-ebd2-6a9c9b35fd8e",
        "colab": {
          "base_uri": "https://localhost:8080/",
          "height": 277
        }
      },
      "source": [
        "for lr in 0.3, 0.1, 0.03, 0.01, 0.003:\n",
        "  conv_model = ConvolutionalNetworkWithBN()\n",
        "  optimizer = torch.optim.SGD(conv_model.parameters(), lr=lr)\n",
        "  train(conv_model, nn.CrossEntropyLoss(), train_loader, optimizer, num_epochs=1)\n",
        "  accuracy = test(conv_model, test_loader)\n",
        "  if accuracy > 96:\n",
        "    print(f'##### lr={lr} leads to GOOD accuracy (no batch normalization)')\n",
        "  elif accuracy > 90:\n",
        "    print(f'##### lr={lr} leads to DECENT accuracy (no batch normalization)')\n",
        "  else:\n",
        "    print(f'##### lr={lr} leads to BAD accuracy (no batch normalization)')   "
      ],
      "execution_count": 0,
      "outputs": [
        {
          "output_type": "stream",
          "text": [
            "Train Epoch: 0 \tLoss: 0.112703\n",
            "Accuracy: 9743 / 10000 (97%)\n",
            "##### lr=0.3 leads to GOOD accuracy (no batch normalization)\n",
            "Train Epoch: 0 \tLoss: 0.121228\n",
            "Accuracy: 9671 / 10000 (97%)\n",
            "##### lr=0.1 leads to GOOD accuracy (no batch normalization)\n",
            "Train Epoch: 0 \tLoss: 0.168919\n",
            "Accuracy: 9573 / 10000 (96%)\n",
            "##### lr=0.03 leads to DECENT accuracy (no batch normalization)\n",
            "Train Epoch: 0 \tLoss: 0.418633\n",
            "Accuracy: 8843 / 10000 (88%)\n",
            "##### lr=0.01 leads to BAD accuracy (no batch normalization)\n",
            "Train Epoch: 0 \tLoss: 2.041067\n",
            "Accuracy: 4422 / 10000 (44%)\n",
            "##### lr=0.003 leads to BAD accuracy (no batch normalization)\n"
          ],
          "name": "stdout"
        }
      ]
    },
    {
      "cell_type": "markdown",
      "metadata": {
        "colab_type": "text",
        "id": "WrJBxM03KOZ-"
      },
      "source": [
        "As you can see learning rate should be in a narrow region to get GOOD result.\n",
        "\n",
        "Now let's try to run the same batch normalization. Before running the code you should finish TODO in ConvolutionalNetworkWithBN code. If your code is correct, then accuracies will improve."
      ]
    },
    {
      "cell_type": "code",
      "metadata": {
        "colab_type": "code",
        "id": "6u2JJdnX5VKF",
        "outputId": "0bd48d96-f4f6-4ccd-d2e1-8cb9ccd657f6",
        "colab": {
          "base_uri": "https://localhost:8080/",
          "height": 277
        }
      },
      "source": [
        "for lr in 0.3, 0.1, 0.03, 0.01, 0.003:\n",
        "  conv_model = ConvolutionalNetworkWithBN(use_batch_norm=True)\n",
        "  optimizer = torch.optim.SGD(conv_model.parameters(), lr=lr)\n",
        "  train(conv_model, nn.CrossEntropyLoss(), train_loader, optimizer, num_epochs=1)\n",
        "  accuracy = test(conv_model, test_loader)\n",
        "  if accuracy > 96:\n",
        "    print(f'##### lr={lr} leads to GOOD accuracy (with batch normalization)')\n",
        "  elif accuracy > 90:\n",
        "    print(f'##### lr={lr} leads to DECENT accuracy (with batch normalization)')\n",
        "  else:\n",
        "    print(f'##### lr={lr} leads to BAD accuracy (with batch normalization)')   \n",
        "  if lr >= 0.01:\n",
        "    assert accuracy > 90, 'Accuracy is too low. Check that your BatchNorm implementation is correct!'"
      ],
      "execution_count": 0,
      "outputs": [
        {
          "output_type": "stream",
          "text": [
            "Train Epoch: 0 \tLoss: 0.073996\n",
            "Accuracy: 9832 / 10000 (98%)\n",
            "##### lr=0.3 leads to GOOD accuracy (with batch normalization)\n",
            "Train Epoch: 0 \tLoss: 0.063297\n",
            "Accuracy: 9814 / 10000 (98%)\n",
            "##### lr=0.1 leads to GOOD accuracy (with batch normalization)\n",
            "Train Epoch: 0 \tLoss: 0.103892\n",
            "Accuracy: 9667 / 10000 (97%)\n",
            "##### lr=0.03 leads to GOOD accuracy (with batch normalization)\n",
            "Train Epoch: 0 \tLoss: 0.200507\n",
            "Accuracy: 9582 / 10000 (96%)\n",
            "##### lr=0.01 leads to DECENT accuracy (with batch normalization)\n",
            "Train Epoch: 0 \tLoss: 0.500197\n",
            "Accuracy: 9204 / 10000 (92%)\n",
            "##### lr=0.003 leads to DECENT accuracy (with batch normalization)\n"
          ],
          "name": "stdout"
        }
      ]
    },
    {
      "cell_type": "markdown",
      "metadata": {
        "colab_type": "text",
        "id": "gdgr7eNFTTAn"
      },
      "source": [
        "**Question [optional]:** Replace the batch normalization layer in your network by your own implementation. Confirm your batch-normalization implementation is correct."
      ]
    },
    {
      "cell_type": "code",
      "metadata": {
        "colab_type": "code",
        "id": "MAuhUMtjTj3f",
        "outputId": "c41e863e-5232-4eb0-9799-f8e2d8931d70",
        "colab": {
          "base_uri": "https://localhost:8080/",
          "height": 255
        }
      },
      "source": [
        "class MyBatchNorm2d(nn.Module):\n",
        "    \"\"\"Simple implementation of batch normalization.\"\"\"\n",
        "\n",
        "    def __init__(self, num_channels, momentum=0.1, epsilon=1e-5):\n",
        "        super(MyBatchNorm2d, self).__init__()\n",
        "\n",
        "        # Initialize bias and gain parameters.\n",
        "        self.gamma = nn.Parameter(torch.ones(1, num_channels, 1, 1))\n",
        "        self.beta = nn.Parameter(torch.zeros(1, num_channels, 1, 1))\n",
        "\n",
        "        # Initialize moving averages.\n",
        "        self.epsilon = epsilon\n",
        "        self.momentum = momentum\n",
        "        self.register_buffer('running_mean', torch.zeros((1, num_channels, 1, 1)))\n",
        "        self.register_buffer('running_var', torch.ones((1, num_channels, 1, 1)))\n",
        "\n",
        "    def forward(self, x):\n",
        "        # Check that input is of correct size.\n",
        "        assert x.dim() == 4, 'input should be NCHW'\n",
        "        assert x.size(1) == self.gamma.numel()\n",
        "        \n",
        "        ########################################################################\n",
        "        # TODO: Add batch norm layer implementation.                           #\n",
        "        # You code should:                                                     #\n",
        "        #   * Compute mean and var.                                            #\n",
        "        #   * Update running_mean and running_var.                             #\n",
        "        #   * Apply mean - variance normalization to x.                        #\n",
        "        # Put your code between START_GRADING and END_GRADING.                 #\n",
        "        ########################################################################\n",
        "        mean = x.mean(axis=(0, 2, 3), keepdim=True)\n",
        "        variance = x.var(axis=(0, 2, 3), keepdim=True)\n",
        "\n",
        "        self.running_mean = ((1 - self.momentum) * self.running_mean) + (self.momentum * mean)\n",
        "        self.running_var = ((1 - self.momentum) * self.running_var)  + (self.momentum * variance)\n",
        "        out = (x - mean) / torch.sqrt(variance + self.epsilon)\n",
        "        out = (self.gamma * out) + self.beta\n",
        "        return out\n",
        "\n",
        "\n",
        "# Use this code to test if your implementation is correct.\n",
        "batch_size, num_channels, im_size = 32, 8, 6\n",
        "batchnorm1 = nn.BatchNorm2d(num_channels)\n",
        "batchnorm2 = MyBatchNorm2d(num_channels)\n",
        "for key, param in batchnorm1.named_parameters():\n",
        "    if key == 'weight':\n",
        "        param.data.fill_(1.0)  # undo random initialization in nn.BatchNorm2d\n",
        "for mode in [True, False]:     # test in training and evaluation mode\n",
        "    batchnorm1.train(mode=mode)\n",
        "    batchnorm2.train(mode=mode)\n",
        "    for _ in range(5):\n",
        "        x = torch.randn(batch_size, num_channels, im_size, im_size) + 10.0\n",
        "        out1 = batchnorm1(x)\n",
        "        out2 = batchnorm2(x)\n",
        "        assert (batchnorm1.running_mean - batchnorm2.running_mean.squeeze()).abs().max() < 1e-5, \\\n",
        "            'running mean is incorrect (%s mode)' % ('train' if mode else 'eval')\n",
        "        assert (batchnorm1.running_var - batchnorm2.running_var.squeeze()).abs().max() < 1e-5, \\\n",
        "            'running variance is incorrect (%s mode)' % ('train' if mode else 'eval')\n",
        "        assert (out1 - out2).abs().max() < 5e-3, \\\n",
        "            'normalized output is incorrect (%s mode)' % ('train' if mode else 'eval')\n",
        "print('All OK!')\n",
        "        "
      ],
      "execution_count": 0,
      "outputs": [
        {
          "output_type": "error",
          "ename": "AssertionError",
          "evalue": "ignored",
          "traceback": [
            "\u001b[0;31m---------------------------------------------------------------------------\u001b[0m",
            "\u001b[0;31mAssertionError\u001b[0m                            Traceback (most recent call last)",
            "\u001b[0;32m<ipython-input-17-bb0d90a0898b>\u001b[0m in \u001b[0;36m<module>\u001b[0;34m()\u001b[0m\n\u001b[1;32m     52\u001b[0m         \u001b[0mout1\u001b[0m \u001b[0;34m=\u001b[0m \u001b[0mbatchnorm1\u001b[0m\u001b[0;34m(\u001b[0m\u001b[0mx\u001b[0m\u001b[0;34m)\u001b[0m\u001b[0;34m\u001b[0m\u001b[0;34m\u001b[0m\u001b[0m\n\u001b[1;32m     53\u001b[0m         \u001b[0mout2\u001b[0m \u001b[0;34m=\u001b[0m \u001b[0mbatchnorm2\u001b[0m\u001b[0;34m(\u001b[0m\u001b[0mx\u001b[0m\u001b[0;34m)\u001b[0m\u001b[0;34m\u001b[0m\u001b[0;34m\u001b[0m\u001b[0m\n\u001b[0;32m---> 54\u001b[0;31m         \u001b[0;32massert\u001b[0m \u001b[0;34m(\u001b[0m\u001b[0mbatchnorm1\u001b[0m\u001b[0;34m.\u001b[0m\u001b[0mrunning_mean\u001b[0m \u001b[0;34m-\u001b[0m \u001b[0mbatchnorm2\u001b[0m\u001b[0;34m.\u001b[0m\u001b[0mrunning_mean\u001b[0m\u001b[0;34m.\u001b[0m\u001b[0msqueeze\u001b[0m\u001b[0;34m(\u001b[0m\u001b[0;34m)\u001b[0m\u001b[0;34m)\u001b[0m\u001b[0;34m.\u001b[0m\u001b[0mabs\u001b[0m\u001b[0;34m(\u001b[0m\u001b[0;34m)\u001b[0m\u001b[0;34m.\u001b[0m\u001b[0mmax\u001b[0m\u001b[0;34m(\u001b[0m\u001b[0;34m)\u001b[0m \u001b[0;34m<\u001b[0m \u001b[0;36m1e-5\u001b[0m\u001b[0;34m,\u001b[0m             \u001b[0;34m'running mean is incorrect (%s mode)'\u001b[0m \u001b[0;34m%\u001b[0m \u001b[0;34m(\u001b[0m\u001b[0;34m'train'\u001b[0m \u001b[0;32mif\u001b[0m \u001b[0mmode\u001b[0m \u001b[0;32melse\u001b[0m \u001b[0;34m'eval'\u001b[0m\u001b[0;34m)\u001b[0m\u001b[0;34m\u001b[0m\u001b[0;34m\u001b[0m\u001b[0m\n\u001b[0m\u001b[1;32m     55\u001b[0m         \u001b[0;32massert\u001b[0m \u001b[0;34m(\u001b[0m\u001b[0mbatchnorm1\u001b[0m\u001b[0;34m.\u001b[0m\u001b[0mrunning_var\u001b[0m \u001b[0;34m-\u001b[0m \u001b[0mbatchnorm2\u001b[0m\u001b[0;34m.\u001b[0m\u001b[0mrunning_var\u001b[0m\u001b[0;34m.\u001b[0m\u001b[0msqueeze\u001b[0m\u001b[0;34m(\u001b[0m\u001b[0;34m)\u001b[0m\u001b[0;34m)\u001b[0m\u001b[0;34m.\u001b[0m\u001b[0mabs\u001b[0m\u001b[0;34m(\u001b[0m\u001b[0;34m)\u001b[0m\u001b[0;34m.\u001b[0m\u001b[0mmax\u001b[0m\u001b[0;34m(\u001b[0m\u001b[0;34m)\u001b[0m \u001b[0;34m<\u001b[0m \u001b[0;36m1e-5\u001b[0m\u001b[0;34m,\u001b[0m             \u001b[0;34m'running variance is incorrect (%s mode)'\u001b[0m \u001b[0;34m%\u001b[0m \u001b[0;34m(\u001b[0m\u001b[0;34m'train'\u001b[0m \u001b[0;32mif\u001b[0m \u001b[0mmode\u001b[0m \u001b[0;32melse\u001b[0m \u001b[0;34m'eval'\u001b[0m\u001b[0;34m)\u001b[0m\u001b[0;34m\u001b[0m\u001b[0;34m\u001b[0m\u001b[0m\n\u001b[1;32m     56\u001b[0m         \u001b[0;32massert\u001b[0m \u001b[0;34m(\u001b[0m\u001b[0mout1\u001b[0m \u001b[0;34m-\u001b[0m \u001b[0mout2\u001b[0m\u001b[0;34m)\u001b[0m\u001b[0;34m.\u001b[0m\u001b[0mabs\u001b[0m\u001b[0;34m(\u001b[0m\u001b[0;34m)\u001b[0m\u001b[0;34m.\u001b[0m\u001b[0mmax\u001b[0m\u001b[0;34m(\u001b[0m\u001b[0;34m)\u001b[0m \u001b[0;34m<\u001b[0m \u001b[0;36m5e-3\u001b[0m\u001b[0;34m,\u001b[0m             \u001b[0;34m'normalized output is incorrect (%s mode)'\u001b[0m \u001b[0;34m%\u001b[0m \u001b[0;34m(\u001b[0m\u001b[0;34m'train'\u001b[0m \u001b[0;32mif\u001b[0m \u001b[0mmode\u001b[0m \u001b[0;32melse\u001b[0m \u001b[0;34m'eval'\u001b[0m\u001b[0;34m)\u001b[0m\u001b[0;34m\u001b[0m\u001b[0;34m\u001b[0m\u001b[0m\n",
            "\u001b[0;31mAssertionError\u001b[0m: running mean is incorrect (eval mode)"
          ]
        }
      ]
    },
    {
      "cell_type": "code",
      "metadata": {
        "colab_type": "code",
        "id": "K_mlTK4LMlse",
        "colab": {}
      },
      "source": [
        ""
      ],
      "execution_count": 0,
      "outputs": []
    }
  ]
}